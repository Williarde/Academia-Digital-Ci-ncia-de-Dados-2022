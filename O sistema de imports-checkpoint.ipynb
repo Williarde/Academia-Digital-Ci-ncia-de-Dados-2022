{
 "cells": [
  {
   "cell_type": "markdown",
   "id": "168dd5c6",
   "metadata": {},
   "source": [
    "# Tipos em uma lista"
   ]
  },
  {
   "cell_type": "code",
   "execution_count": 4,
   "id": "0ec4961d",
   "metadata": {},
   "outputs": [
    {
     "name": "stdout",
     "output_type": "stream",
     "text": [
      "O elemento Williarde é do tipo <class 'str'>\n",
      "O elemento 32 é do tipo <class 'int'>\n",
      "O elemento True é do tipo <class 'bool'>\n",
      "O elemento 20 é do tipo <class 'str'>\n"
     ]
    }
   ],
   "source": [
    "lista = ['Williarde', 32, True, '20']\n",
    "for elemento in lista:\n",
    "    print(f'O elemento {elemento} é do tipo', type(elemento))"
   ]
  },
  {
   "cell_type": "markdown",
   "id": "f7321f22",
   "metadata": {},
   "source": [
    "Em uma lista eu posso ter diversos valores.\n",
    "\n",
    "# Import"
   ]
  },
  {
   "cell_type": "code",
   "execution_count": 24,
   "id": "1cbe95be",
   "metadata": {},
   "outputs": [
    {
     "data": {
      "text/plain": [
       "7"
      ]
     },
     "execution_count": 24,
     "metadata": {},
     "output_type": "execute_result"
    }
   ],
   "source": [
    "from random import randrange, seed\n",
    "seed (11)\n",
    "\n",
    "randrange(0, 11)"
   ]
  },
  {
   "cell_type": "code",
   "execution_count": 25,
   "id": "fbe92d59",
   "metadata": {},
   "outputs": [
    {
     "data": {
      "text/plain": [
       "[8]"
      ]
     },
     "execution_count": 25,
     "metadata": {},
     "output_type": "execute_result"
    }
   ],
   "source": [
    "notas_matematica = [ ]\n",
    "notas_matematica.append(randrange(0, 11))\n",
    "notas_matematica"
   ]
  },
  {
   "cell_type": "code",
   "execution_count": 26,
   "id": "1d6e30a0",
   "metadata": {},
   "outputs": [
    {
     "data": {
      "text/plain": [
       "[[7], [7], [8], [9], [3], [2], [8], [7]]"
      ]
     },
     "execution_count": 26,
     "metadata": {},
     "output_type": "execute_result"
    }
   ],
   "source": [
    "notas_matematica = []\n",
    "for notas in range(8):\n",
    "    notas_matematica.append([randrange(0,11)])\n",
    "\n",
    "notas_matematica"
   ]
  },
  {
   "cell_type": "code",
   "execution_count": 27,
   "id": "f28bf63f",
   "metadata": {},
   "outputs": [
    {
     "data": {
      "text/plain": [
       "8"
      ]
     },
     "execution_count": 27,
     "metadata": {},
     "output_type": "execute_result"
    }
   ],
   "source": [
    "len (notas_matematica)"
   ]
  }
 ],
 "metadata": {
  "kernelspec": {
   "display_name": "Python 3 (ipykernel)",
   "language": "python",
   "name": "python3"
  },
  "language_info": {
   "codemirror_mode": {
    "name": "ipython",
    "version": 3
   },
   "file_extension": ".py",
   "mimetype": "text/x-python",
   "name": "python",
   "nbconvert_exporter": "python",
   "pygments_lexer": "ipython3",
   "version": "3.7.3"
  }
 },
 "nbformat": 4,
 "nbformat_minor": 5
}
