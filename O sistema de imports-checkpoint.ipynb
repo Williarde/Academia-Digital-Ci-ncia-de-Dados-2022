{
 "cells": [
  {
   "cell_type": "markdown",
   "id": "035e408b",
   "metadata": {},
   "source": [
    "# Tipos em uma lista"
   ]
  },
  {
   "cell_type": "code",
   "execution_count": 4,
   "id": "f7fb34a0",
   "metadata": {},
   "outputs": [
    {
     "name": "stdout",
     "output_type": "stream",
     "text": [
      "O elemento Williarde é do tipo <class 'str'>\n",
      "O elemento 32 é do tipo <class 'int'>\n",
      "O elemento True é do tipo <class 'bool'>\n",
      "O elemento 20 é do tipo <class 'str'>\n"
     ]
    }
   ],
   "source": [
    "lista = ['Williarde', 32, True, '20']\n",
    "for elemento in lista:\n",
    "    print(f'O elemento {elemento} é do tipo', type(elemento))"
   ]
  },
  {
   "cell_type": "markdown",
   "id": "9853fa9d",
   "metadata": {},
   "source": [
    "Em uma lista eu posso ter diversos valores.\n",
    "\n",
    "# Import"
   ]
  },
  {
   "cell_type": "code",
   "execution_count": 24,
   "id": "f581ba70",
   "metadata": {},
   "outputs": [
    {
     "data": {
      "text/plain": [
       "7"
      ]
     },
     "execution_count": 24,
     "metadata": {},
     "output_type": "execute_result"
    }
   ],
   "source": [
    "from random import randrange, seed\n",
    "seed (11)\n",
    "\n",
    "randrange(0, 11)"
   ]
  },
  {
   "cell_type": "code",
   "execution_count": 25,
   "id": "6acbfce8",
   "metadata": {},
   "outputs": [
    {
     "data": {
      "text/plain": [
       "[8]"
      ]
     },
     "execution_count": 25,
     "metadata": {},
     "output_type": "execute_result"
    }
   ],
   "source": [
    "notas_matematica = [ ]\n",
    "notas_matematica.append(randrange(0, 11))\n",
    "notas_matematica"
   ]
  },
  {
   "cell_type": "code",
   "execution_count": 26,
   "id": "44a53669",
   "metadata": {},
   "outputs": [
    {
     "data": {
      "text/plain": [
       "[[7], [7], [8], [9], [3], [2], [8], [7]]"
      ]
     },
     "execution_count": 26,
     "metadata": {},
     "output_type": "execute_result"
    }
   ],
   "source": [
    "notas_matematica = []\n",
    "for notas in range(8):\n",
    "    notas_matematica.append([randrange(0,11)])\n",
    "\n",
    "notas_matematica"
   ]
  },
  {
   "cell_type": "code",
   "execution_count": 31,
   "id": "ce016a07",
   "metadata": {},
   "outputs": [
    {
     "data": {
      "text/plain": [
       "8"
      ]
     },
     "execution_count": 31,
     "metadata": {},
     "output_type": "execute_result"
    }
   ],
   "source": [
    "len (notas_matematica)"
   ]
  },
  {
   "cell_type": "markdown",
   "id": "f60c752c",
   "metadata": {},
   "source": [
    "# Matplotlib"
   ]
  },
  {
   "cell_type": "code",
   "execution_count": 32,
   "id": "632320e9",
   "metadata": {},
   "outputs": [],
   "source": [
    "import matplotlib.pyplot as plt"
   ]
  },
  {
   "cell_type": "code",
   "execution_count": 38,
   "id": "c09c522a",
   "metadata": {},
   "outputs": [
    {
     "data": {
      "image/png": "[encoded data removed]",
      "text/plain": [
       "<Figure size 432x288 with 1 Axes>"
      ]
     },
     "metadata": {
      "needs_background": "light"
     },
     "output_type": "display_data"
    }
   ],
   "source": [
    "x = list(range(1,9))\n",
    "y = notas_matematica\n",
    "plt.plot(x, y, marker ='o')\n",
    "plt.title('Notas de matemática')\n",
    "plt.xlabel('Provas')\n",
    "plt.ylabel('Notas')\n",
    "plt.show()"
   ]
  },
  {
   "cell_type": "code",
   "execution_count": 39,
   "id": "3c6c0dcf",
   "metadata": {},
   "outputs": [
    {
     "data": {
      "text/plain": [
       "[[7], [7], [8], [9], [3], [2], [8], [7]]"
      ]
     },
     "execution_count": 39,
     "metadata": {},
     "output_type": "execute_result"
    }
   ],
   "source": [
    "notas_matematica"
   ]
  },
  {
   "cell_type": "code",
   "execution_count": null,
   "id": "055d4113",
   "metadata": {},
   "outputs": [],
   "source": []
  }
 ],
 "metadata": {
  "kernelspec": {
   "display_name": "Python 3 (ipykernel)",
   "language": "python",
   "name": "python3"
  },
  "language_info": {
   "codemirror_mode": {
    "name": "ipython",
    "version": 3
   },
   "file_extension": ".py",
   "mimetype": "text/x-python",
   "name": "python",
   "nbconvert_exporter": "python",
   "pygments_lexer": "ipython3",
   "version": "3.7.3"
  }
 },
 "nbformat": 4,
 "nbformat_minor": 5
}
