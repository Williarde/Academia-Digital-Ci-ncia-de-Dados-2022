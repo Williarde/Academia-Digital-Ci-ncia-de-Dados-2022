{
 "cells": [
  {
   "cell_type": "markdown",
   "id": "cdb79390",
   "metadata": {},
   "source": [
    "Logica de programação"
   ]
  },
  {
   "cell_type": "code",
   "execution_count": null,
   "id": "4f1cb927",
   "metadata": {},
   "outputs": [],
   "source": [
    "def saudacao():\n",
    "    "
   ]
  },
  {
   "cell_type": "code",
   "execution_count": 29,
   "id": "66c16db1",
   "metadata": {},
   "outputs": [],
   "source": [
    "nome = 'williarde'"
   ]
  },
  {
   "cell_type": "code",
   "execution_count": 30,
   "id": "4bdbfc3c",
   "metadata": {},
   "outputs": [
    {
     "data": {
      "text/plain": [
       "'williarde'"
      ]
     },
     "execution_count": 30,
     "metadata": {},
     "output_type": "execute_result"
    }
   ],
   "source": [
    "nome"
   ]
  },
  {
   "cell_type": "code",
   "execution_count": 28,
   "id": "c317a5d0",
   "metadata": {},
   "outputs": [],
   "source": [
    "idade = 32"
   ]
  },
  {
   "cell_type": "code",
   "execution_count": 19,
   "id": "e665868b",
   "metadata": {},
   "outputs": [
    {
     "data": {
      "text/plain": [
       "32"
      ]
     },
     "execution_count": 19,
     "metadata": {},
     "output_type": "execute_result"
    }
   ],
   "source": [
    "idade"
   ]
  },
  {
   "cell_type": "code",
   "execution_count": 22,
   "id": "076050f2",
   "metadata": {},
   "outputs": [
    {
     "name": "stdout",
     "output_type": "stream",
     "text": [
      " O nome é williarde e sua idade é 32 anos\n"
     ]
    }
   ],
   "source": [
    "print(f' O nome é {nome} e sua idade é {idade} anos')"
   ]
  },
  {
   "cell_type": "code",
   "execution_count": null,
   "id": "2d8e335e",
   "metadata": {},
   "outputs": [],
   "source": [
    "  nome = input('Qual o seu nome?')\n",
    "  print(f'olá {nome}')"
   ]
  },
  {
   "cell_type": "markdown",
   "id": "dfc39dc7",
   "metadata": {},
   "source": [
    "Criando minha primeira função"
   ]
  },
  {
   "cell_type": "code",
   "execution_count": null,
   "id": "e92f4757",
   "metadata": {},
   "outputs": [],
   "source": [
    "def saudacao():\n",
    "  nome = input('Qual o seu nome?')\n",
    "  print(f'olá {nome}')"
   ]
  },
  {
   "cell_type": "code",
   "execution_count": null,
   "id": "d7039590",
   "metadata": {},
   "outputs": [],
   "source": []
  }
 ],
 "metadata": {
  "kernelspec": {
   "display_name": "Python 3 (ipykernel)",
   "language": "python",
   "name": "python3"
  },
  "language_info": {
   "codemirror_mode": {
    "name": "ipython",
    "version": 3
   },
   "file_extension": ".py",
   "mimetype": "text/x-python",
   "name": "python",
   "nbconvert_exporter": "python",
   "pygments_lexer": "ipython3",
   "version": "3.7.3"
  },
  "widgets": {
   "application/vnd.jupyter.widget-state+json": {
    "state": {},
    "version_major": 2,
    "version_minor": 0
   }
  }
 },
 "nbformat": 4,
 "nbformat_minor": 5
}
