{
 "cells": [
  {
   "cell_type": "markdown",
   "id": "f2494bb8",
   "metadata": {},
   "source": [
    "# Logica de programação"
   ]
  },
  {
   "cell_type": "code",
   "execution_count": 1,
   "id": "5b7687f3",
   "metadata": {},
   "outputs": [
    {
     "ename": "SyntaxError",
     "evalue": "unexpected EOF while parsing (2704092868.py, line 1)",
     "output_type": "error",
     "traceback": [
      "\u001b[1;36m  File \u001b[1;32m\"C:\\Users\\w.souza\\AppData\\Local\\Temp\\ipykernel_15768\\2704092868.py\"\u001b[1;36m, line \u001b[1;32m1\u001b[0m\n\u001b[1;33m    def saudacao():\u001b[0m\n\u001b[1;37m                   ^\u001b[0m\n\u001b[1;31mSyntaxError\u001b[0m\u001b[1;31m:\u001b[0m unexpected EOF while parsing\n"
     ]
    }
   ],
   "source": [
    "def saudacao():"
   ]
  },
  {
   "cell_type": "code",
   "execution_count": 2,
   "id": "2b457b0b",
   "metadata": {},
   "outputs": [],
   "source": [
    "nome = 'williarde'"
   ]
  },
  {
   "cell_type": "code",
   "execution_count": 3,
   "id": "31bef298",
   "metadata": {},
   "outputs": [
    {
     "data": {
      "text/plain": [
       "'williarde'"
      ]
     },
     "execution_count": 3,
     "metadata": {},
     "output_type": "execute_result"
    }
   ],
   "source": [
    "nome"
   ]
  },
  {
   "cell_type": "code",
   "execution_count": 4,
   "id": "5fa93ef1",
   "metadata": {},
   "outputs": [],
   "source": [
    "idade = 32"
   ]
  },
  {
   "cell_type": "code",
   "execution_count": 5,
   "id": "f47d782f",
   "metadata": {},
   "outputs": [
    {
     "data": {
      "text/plain": [
       "32"
      ]
     },
     "execution_count": 5,
     "metadata": {},
     "output_type": "execute_result"
    }
   ],
   "source": [
    "idade"
   ]
  },
  {
   "cell_type": "code",
   "execution_count": 6,
   "id": "65aca280",
   "metadata": {},
   "outputs": [
    {
     "name": "stdout",
     "output_type": "stream",
     "text": [
      " O nome é williarde e sua idade é 32 anos\n"
     ]
    }
   ],
   "source": [
    "print(f' O nome é {nome} e sua idade é {idade} anos')"
   ]
  },
  {
   "cell_type": "code",
   "execution_count": 7,
   "id": "a161c5f8",
   "metadata": {},
   "outputs": [
    {
     "name": "stdout",
     "output_type": "stream",
     "text": [
      "Qual o seu nome?teste\n",
      "olá teste\n"
     ]
    }
   ],
   "source": [
    "  nome = input('Qual o seu nome?')\n",
    "  print(f'olá {nome}')"
   ]
  },
  {
   "cell_type": "markdown",
   "id": "1be68018",
   "metadata": {},
   "source": [
    "# Variáveis e função print()"
   ]
  },
  {
   "cell_type": "code",
   "execution_count": 11,
   "id": "ecc6913d",
   "metadata": {},
   "outputs": [
    {
     "ename": "IndentationError",
     "evalue": "expected an indented block (3152183390.py, line 2)",
     "output_type": "error",
     "traceback": [
      "\u001b[1;36m  File \u001b[1;32m\"C:\\Users\\w.souza\\AppData\\Local\\Temp\\ipykernel_15768\\3152183390.py\"\u001b[1;36m, line \u001b[1;32m2\u001b[0m\n\u001b[1;33m    nome = input('Qual é o seu nome? ')\u001b[0m\n\u001b[1;37m       ^\u001b[0m\n\u001b[1;31mIndentationError\u001b[0m\u001b[1;31m:\u001b[0m expected an indented block\n"
     ]
    }
   ],
   "source": [
    " def saudacao():\n",
    "nome = input('Qual é o seu nome?')\n",
    "print(f'Olá {nome}')"
   ]
  },
  {
   "cell_type": "code",
   "execution_count": 10,
   "id": "c6757c9e",
   "metadata": {},
   "outputs": [
    {
     "ename": "NameError",
     "evalue": "name 'saudacao' is not defined",
     "output_type": "error",
     "traceback": [
      "\u001b[1;31m---------------------------------------------------------------------------\u001b[0m",
      "\u001b[1;31mNameError\u001b[0m                                 Traceback (most recent call last)",
      "\u001b[1;32m~\\AppData\\Local\\Temp\\ipykernel_15768\\3708284132.py\u001b[0m in \u001b[0;36m<module>\u001b[1;34m\u001b[0m\n\u001b[1;32m----> 1\u001b[1;33m \u001b[0msaudacao\u001b[0m\u001b[1;33m(\u001b[0m\u001b[1;33m)\u001b[0m\u001b[1;33m\u001b[0m\u001b[1;33m\u001b[0m\u001b[0m\n\u001b[0m",
      "\u001b[1;31mNameError\u001b[0m: name 'saudacao' is not defined"
     ]
    }
   ],
   "source": [
    "saudacao()"
   ]
  },
  {
   "cell_type": "markdown",
   "id": "629b93dd",
   "metadata": {},
   "source": [
    "# Função nome completo"
   ]
  },
  {
   "cell_type": "markdown",
   "id": "b7bb4675",
   "metadata": {},
   "source": [
    "Função da atividade do primeiro capitulo da aula de "
   ]
  },
  {
   "cell_type": "code",
   "execution_count": 30,
   "id": "f4880fdf",
   "metadata": {},
   "outputs": [],
   "source": [
    "def nome_completo():\n",
    " primeiro_nome = input('Qual seu primeiro nome? ')\n",
    " sobrenome = input('Qual seu sobrenome? ')\n",
    " nome_inteiro = primeiro_nome + ' ' + sobrenome\n",
    " print(nome_inteiro)\n",
    "\n",
    " nome_completo()"
   ]
  },
  {
   "cell_type": "code",
   "execution_count": null,
   "id": "b52d3c69",
   "metadata": {},
   "outputs": [],
   "source": []
  }
 ],
 "metadata": {
  "kernelspec": {
   "display_name": "Python 3 (ipykernel)",
   "language": "python",
   "name": "python3"
  },
  "language_info": {
   "codemirror_mode": {
    "name": "ipython",
    "version": 3
   },
   "file_extension": ".py",
   "mimetype": "text/x-python",
   "name": "python",
   "nbconvert_exporter": "python",
   "pygments_lexer": "ipython3",
   "version": "3.7.3"
  },
  "widgets": {
   "application/vnd.jupyter.widget-state+json": {
    "state": {},
    "version_major": 2,
    "version_minor": 0
   }
  }
 },
 "nbformat": 4,
 "nbformat_minor": 5
}
