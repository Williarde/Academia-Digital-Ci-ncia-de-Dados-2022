{
 "cells": [
  {
   "cell_type": "markdown",
   "id": "597b4e0e",
   "metadata": {},
   "source": [
    "# Lista \n",
    "\n",
    " Existe uma forma de armazenarmos uma série de elementos de uma única vez, isto é, utilizar listas."
   ]
  },
  {
   "cell_type": "code",
   "execution_count": 8,
   "id": "0e8d1f71",
   "metadata": {},
   "outputs": [
    {
     "data": {
      "text/plain": [
       "22"
      ]
     },
     "execution_count": 8,
     "metadata": {},
     "output_type": "execute_result"
    }
   ],
   "source": [
    "idade = 22\n",
    "idade"
   ]
  },
  {
   "cell_type": "markdown",
   "id": "122352e7",
   "metadata": {},
   "source": [
    "Aqui retornamentos o valor da variavel e abaixo checamos o timpo qual tipo a variavel está sendo impressa."
   ]
  },
  {
   "cell_type": "code",
   "execution_count": 7,
   "id": "285b1e88",
   "metadata": {},
   "outputs": [
    {
     "data": {
      "text/plain": [
       "int"
      ]
     },
     "execution_count": 7,
     "metadata": {},
     "output_type": "execute_result"
    }
   ],
   "source": [
    "type(idade)"
   ]
  },
  {
   "cell_type": "markdown",
   "id": "ff80bd18",
   "metadata": {},
   "source": [
    "Abaixo estamos listando varios itens em uma lista e expondo o tipo dos valores que são impressos"
   ]
  },
  {
   "cell_type": "code",
   "execution_count": 96,
   "id": "79d25a8f",
   "metadata": {},
   "outputs": [
    {
     "data": {
      "text/plain": [
       "list"
      ]
     },
     "execution_count": 96,
     "metadata": {},
     "output_type": "execute_result"
    }
   ],
   "source": [
    "idades = [12, 22, 15, 50]\n",
    "type(idades)"
   ]
  },
  {
   "cell_type": "markdown",
   "id": "a1483feb",
   "metadata": {},
   "source": [
    "Para exemplificar os itens na variaval idades, são facilmente setados pela sua posição, conforme exemplo: \n",
    "\n",
    "idades = [18, 22, 15, 50]\n",
    "idades = [00, 01, 02, 03]"
   ]
  },
  {
   "cell_type": "code",
   "execution_count": 97,
   "id": "bc2936f6",
   "metadata": {},
   "outputs": [
    {
     "data": {
      "text/plain": [
       "15"
      ]
     },
     "execution_count": 97,
     "metadata": {},
     "output_type": "execute_result"
    }
   ],
   "source": [
    "idades[2]"
   ]
  },
  {
   "cell_type": "code",
   "execution_count": 47,
   "id": "a05c29ce",
   "metadata": {},
   "outputs": [
    {
     "data": {
      "text/plain": [
       "[12, 22]"
      ]
     },
     "execution_count": 47,
     "metadata": {},
     "output_type": "execute_result"
    }
   ],
   "source": [
    "idades[0:2]"
   ]
  },
  {
   "cell_type": "code",
   "execution_count": 98,
   "id": "b69e6df6",
   "metadata": {},
   "outputs": [
    {
     "data": {
      "text/plain": [
       "[12, 22, 15]"
      ]
     },
     "execution_count": 98,
     "metadata": {},
     "output_type": "execute_result"
    }
   ],
   "source": [
    "idades[0:3]"
   ]
  },
  {
   "cell_type": "code",
   "execution_count": 49,
   "id": "e3ccf73e",
   "metadata": {},
   "outputs": [
    {
     "data": {
      "text/plain": [
       "[22, 15, 50]"
      ]
     },
     "execution_count": 49,
     "metadata": {},
     "output_type": "execute_result"
    }
   ],
   "source": [
    "idades[1:]"
   ]
  },
  {
   "cell_type": "code",
   "execution_count": 50,
   "id": "c63ff6a0",
   "metadata": {},
   "outputs": [
    {
     "data": {
      "text/plain": [
       "50"
      ]
     },
     "execution_count": 50,
     "metadata": {},
     "output_type": "execute_result"
    }
   ],
   "source": [
    "idades[-1]"
   ]
  },
  {
   "cell_type": "markdown",
   "id": "0f78b48e",
   "metadata": {},
   "source": [
    "# Laços e loops"
   ]
  },
  {
   "cell_type": "code",
   "execution_count": 99,
   "id": "212d477c",
   "metadata": {},
   "outputs": [
    {
     "data": {
      "text/plain": [
       "[12, 22, 15, 50]"
      ]
     },
     "execution_count": 99,
     "metadata": {},
     "output_type": "execute_result"
    }
   ],
   "source": [
    "idades"
   ]
  },
  {
   "cell_type": "code",
   "execution_count": 100,
   "id": "d804cdd4",
   "metadata": {},
   "outputs": [
    {
     "name": "stdout",
     "output_type": "stream",
     "text": [
      "12 anos de idade,Não tem permissão para dirigir\n",
      "22 anos de idade, Tem permissão para digirir\n",
      "15 anos de idade,Não tem permissão para dirigir\n",
      "50 anos de idade, Tem permissão para digirir\n"
     ]
    }
   ],
   "source": [
    "\"Exemplo 1 - aqui primeiro informamos que a idade de dirigir é 18 e depois comparamos com a lista\"\n",
    "def verificar_se_pode_dirigir(idade):\n",
    "        if idade >=18:\n",
    "             print (f'{idade} anos de idade, Tem permissão para digirir')\n",
    "        else:\n",
    "              print(f'{idade} anos de idade,Não tem permissão para dirigir')\n",
    "for idade in idades:               \n",
    "    verificar_se_pode_dirigir(idade)"
   ]
  },
  {
   "cell_type": "code",
   "execution_count": 101,
   "id": "c2f932d6",
   "metadata": {},
   "outputs": [
    {
     "name": "stdout",
     "output_type": "stream",
     "text": [
      "12 anos de idade, Não tem permissão para dirigir\n",
      "22 anos de idade, Tem permissão para digirir\n",
      "15 anos de idade, Não tem permissão para dirigir\n",
      "50 anos de idade, Tem permissão para digirir\n"
     ]
    }
   ],
   "source": [
    "\"Exemplo 1 - aqui vamos chamar todas as idades da função e verificar se possuem permissão\"\n",
    "def verificar_se_pode_dirigir(idade):\n",
    "    for idade in idades:\n",
    "        if idade >=18:\n",
    "             print (f'{idade} anos de idade, Tem permissão para digirir')\n",
    "        else:\n",
    "              print(f'{idade} anos de idade, Não tem permissão para dirigir')       \n",
    "verificar_se_pode_dirigir(idade)"
   ]
  },
  {
   "cell_type": "markdown",
   "id": "7e6cfa40",
   "metadata": {},
   "source": [
    "# Boleano"
   ]
  },
  {
   "cell_type": "code",
   "execution_count": 60,
   "id": "ec190578",
   "metadata": {},
   "outputs": [
    {
     "data": {
      "text/plain": [
       "True"
      ]
     },
     "execution_count": 60,
     "metadata": {},
     "output_type": "execute_result"
    }
   ],
   "source": [
    "Idade  = 18\n",
    "idade >=18"
   ]
  },
  {
   "cell_type": "code",
   "execution_count": 63,
   "id": "bacfed52",
   "metadata": {},
   "outputs": [
    {
     "data": {
      "text/plain": [
       "False"
      ]
     },
     "execution_count": 63,
     "metadata": {},
     "output_type": "execute_result"
    }
   ],
   "source": [
    "Idade  = 15\n",
    "idade <=18"
   ]
  },
  {
   "cell_type": "code",
   "execution_count": 102,
   "id": "fc5bd950",
   "metadata": {},
   "outputs": [],
   "source": [
    "permissoes = []\n",
    "idades = [20, 14, 40]\n",
    "\n",
    "def verifica_se_pode_dirigir(idade, permissoes):\n",
    "    for idade in idades :\n",
    "        if idade >= 18:\n",
    "            permissoes.append (True)\n",
    "        else:\n",
    "            permissoes.append (False)\n",
    "verifica_se_pode_dirigir(idade, permissoes)"
   ]
  },
  {
   "cell_type": "code",
   "execution_count": 103,
   "id": "90ae7cb7",
   "metadata": {},
   "outputs": [
    {
     "data": {
      "text/plain": [
       "[True, False, True]"
      ]
     },
     "execution_count": 103,
     "metadata": {},
     "output_type": "execute_result"
    }
   ],
   "source": [
    "permissoes"
   ]
  },
  {
   "cell_type": "code",
   "execution_count": 104,
   "id": "5c3adbb0",
   "metadata": {},
   "outputs": [
    {
     "name": "stdout",
     "output_type": "stream",
     "text": [
      "Tem permissão para dirigir\n",
      "Não tem permissão para dirigir\n",
      "Tem permissão para dirigir\n"
     ]
    }
   ],
   "source": [
    "for permissao in permissoes:\n",
    "  if permissao == True:\n",
    "    print('Tem permissão para dirigir')\n",
    "  else:\n",
    "    print('Não tem permissão para dirigir')"
   ]
  },
  {
   "cell_type": "code",
   "execution_count": null,
   "id": "786e867b",
   "metadata": {},
   "outputs": [],
   "source": []
  }
 ],
 "metadata": {
  "kernelspec": {
   "display_name": "Python 3 (ipykernel)",
   "language": "python",
   "name": "python3"
  },
  "language_info": {
   "codemirror_mode": {
    "name": "ipython",
    "version": 3
   },
   "file_extension": ".py",
   "mimetype": "text/x-python",
   "name": "python",
   "nbconvert_exporter": "python",
   "pygments_lexer": "ipython3",
   "version": "3.7.3"
  }
 },
 "nbformat": 4,
 "nbformat_minor": 5
}
