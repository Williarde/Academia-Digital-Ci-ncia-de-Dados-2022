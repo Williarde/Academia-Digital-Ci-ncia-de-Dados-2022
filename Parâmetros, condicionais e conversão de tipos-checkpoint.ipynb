{
 "cells": [
  {
   "cell_type": "markdown",
   "id": "a8eb8b30",
   "metadata": {},
   "source": [
    "# Função nome completo"
   ]
  },
  {
   "cell_type": "markdown",
   "id": "c7145a01",
   "metadata": {},
   "source": [
    "Função da atividade do primeiro capitulo da aula\n",
    "\n",
    "Abaixo estamos criando uma função de saudação ()"
   ]
  },
  {
   "cell_type": "code",
   "execution_count": 1,
   "id": "97a8690a",
   "metadata": {},
   "outputs": [],
   "source": [
    "def saudacao():\n",
    "    nome = input('Qual é o seu nome? ')\n",
    "    print(f'Olá {nome}')"
   ]
  },
  {
   "cell_type": "markdown",
   "id": "e3600b3a",
   "metadata": {},
   "source": [
    "Nesta ponto vamos chamar a função de saudação"
   ]
  },
  {
   "cell_type": "code",
   "execution_count": null,
   "id": "ab746121",
   "metadata": {},
   "outputs": [],
   "source": [
    "saudacao()"
   ]
  },
  {
   "cell_type": "markdown",
   "id": "362e6d88",
   "metadata": {},
   "source": [
    "# parâmetro\n",
    "\n",
    "Vamos criar uma nova função de saudação atribuindo o valor do nome fora da função"
   ]
  },
  {
   "cell_type": "code",
   "execution_count": null,
   "id": "9818e825",
   "metadata": {},
   "outputs": [],
   "source": [
    "nome = 'Pedro'"
   ]
  },
  {
   "cell_type": "code",
   "execution_count": null,
   "id": "80e4f268",
   "metadata": {},
   "outputs": [],
   "source": [
    "def saudacao_com_parametro (nome_da_pessoa):\n",
    " print(f' Olá {nome_da_pessoa}')"
   ]
  },
  {
   "cell_type": "code",
   "execution_count": null,
   "id": "e7e67bea",
   "metadata": {},
   "outputs": [],
   "source": [
    "saudacao_com_parametro(nome)"
   ]
  },
  {
   "cell_type": "markdown",
   "id": "11967791",
   "metadata": {},
   "source": [
    "# Condicional\n",
    "\n",
    "Nesta etapa iremos criar uma função de nos mostra um codição de decisão"
   ]
  },
  {
   "cell_type": "code",
   "execution_count": 6,
   "id": "a2d1845d",
   "metadata": {},
   "outputs": [],
   "source": [
    "idade = 15\n",
    "\n",
    "def verificar_se_pode_dirigir(idade):\n",
    "    if idade >=18:\n",
    "        print ('Tem permissão para digirir')\n",
    "    else:\n",
    "        print('Não tem permissão para dirigir')"
   ]
  },
  {
   "cell_type": "markdown",
   "id": "7ec1b50d",
   "metadata": {},
   "source": [
    "Agora vamos verificar se existe a permissão necessaria para dirigir"
   ]
  },
  {
   "cell_type": "code",
   "execution_count": 7,
   "id": "9ec197d3",
   "metadata": {},
   "outputs": [
    {
     "name": "stdout",
     "output_type": "stream",
     "text": [
      "Não tem permissão para dirigir\n"
     ]
    }
   ],
   "source": [
    "        verificar_se_pode_dirigir(idade)"
   ]
  },
  {
   "cell_type": "markdown",
   "id": "3d7630b8",
   "metadata": {},
   "source": [
    "# Convertendo tipo para inteiro\n",
    "\n",
    "Agora vamos mostrar como receber o valor dentro da função"
   ]
  },
  {
   "cell_type": "code",
   "execution_count": 11,
   "id": "2db0b460",
   "metadata": {},
   "outputs": [],
   "source": [
    "def verificar_se_pode_dirigir(idade):\n",
    "    idade = input('Qual sua idade ?')\n",
    "    idade = int(idade)\n",
    "    if idade >=18:\n",
    "        print ('Tem permissão para digirir')\n",
    "    else:\n",
    "        print('Não tem permissão para dirigir')"
   ]
  },
  {
   "cell_type": "code",
   "execution_count": 12,
   "id": "a7b8067f",
   "metadata": {},
   "outputs": [
    {
     "name": "stdout",
     "output_type": "stream",
     "text": [
      "Qual sua idade ?54\n",
      "Tem permissão para digirir\n"
     ]
    }
   ],
   "source": [
    "        verificar_se_pode_dirigir(idade)"
   ]
  }
 ],
 "metadata": {
  "kernelspec": {
   "display_name": "Python 3 (ipykernel)",
   "language": "python",
   "name": "python3"
  },
  "language_info": {
   "codemirror_mode": {
    "name": "ipython",
    "version": 3
   },
   "file_extension": ".py",
   "mimetype": "text/x-python",
   "name": "python",
   "nbconvert_exporter": "python",
   "pygments_lexer": "ipython3",
   "version": "3.7.3"
  }
 },
 "nbformat": 4,
 "nbformat_minor": 5
}
